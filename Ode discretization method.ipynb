{
 "cells": [
  {
   "cell_type": "code",
   "execution_count": 6,
   "metadata": {},
   "outputs": [],
   "source": [
    "import numpy as np\n",
    "import matplotlib.pyplot as plt"
   ]
  },
  {
   "cell_type": "markdown",
   "metadata": {},
   "source": [
    "# Ordinary Differential equation\n",
    "\n",
    "Consider the following Cauchy problem: find $u:I\\rightarrow R$ s.t\n",
    "$$\n",
    "\\begin{cases}\n",
    "u^{'}(t) = f(t, u(t)) \\\\\n",
    "u(t_0) = u_0\n",
    "\\end{cases}\n",
    "$$\n",
    "where $I$ is an interval in $R$ and $f:I\\times R \\rightarrow R$\n"
   ]
  },
  {
   "cell_type": "markdown",
   "metadata": {},
   "source": [
    "## Euler method\n",
    "### Forward Euler method\n",
    "This method is obtained considering the above differential eqation and replacing the exact derivative by means of the incremental ratio $u^{'}(x) \\approx \\frac{u(x+h)-u(x)}{h}$\n",
    "$$\n",
    "    u_{n+1} = u_n + hf_n  \\;\\;\\;\\;\\;\\;\\;\\;\\; n=0,\\dots,N_h -1\n",
    "$$\n",
    "\n",
    "### Backward Euler method\n",
    "In similar way using the incremental ratio $u^{'}(x) \\approx \\frac{u(x)-u(x+h)}{h}$ we obtain\n",
    "$$\n",
    "    u_{n+1} = u_{n} + hf_{n+1}    \\;\\;\\;\\;\\;\\;\\;\\;\\;  n=0,\\dots,N_h -1\n",
    "$$\n",
    "\n",
    "## Crank-Nicolson method\n",
    "Adding togheter the generic steps of the forward and backward Euler method we find\n",
    "$$\n",
    "    u_{n+1} = u_{n} + \\frac{h}{2} \\left(f_n + f_{n+1} \\right)    \\;\\;\\;\\;\\;\\;\\;\\;\\; n=0,\\dots,N_h -1\n",
    "$$\n",
    "\n",
    "## Runge-Kutta methods\n",
    "A further generalization of the Euler method is the Runge_Kutta method, that involves several evaluations of the function $f(t,y)$ on every interval $[t_n, t_{n+1}]$. In the most general form can be written as\n",
    "$$\n",
    "    u_{n+1} = u_{n} + h \\sum_{i=1}^s b_iK_i\n",
    "$$\n",
    "where\n",
    "$$\n",
    "    K_i = f(t_n + c_i h, u_n + h \\sum_{j=1}^s b_i K_i) \\;\\;\\;\\;\\;\\;\\;\\;\\; i=1,2,\\dots,s\n",
    "$$\n",
    "where $A=(a_ij) \\in R^{s \\times s}$, $\\textbf{b} = (b_1,\\dots, b_s)^T \\in R^{s}$ and $\\textbf{c} = (c_1,\\dots, c_s)^T \\in R^{s}$.\n",
    "One of the most celebrated Runge-Kutta method reads\n",
    "\n",
    "$$\n",
    "    u_{n+1} = u_{n} + \\frac{h}{6} (K_1+K_2+K_3+K_4)\n",
    "$$\n",
    "where\n",
    "$$\n",
    "    K_1 = f_n\n",
    "$$\n",
    "$$\n",
    "    K_2 = f(t_n + \\frac{h}{2}, u_n + \\frac{h}{2}K_1)\n",
    "$$\n",
    "$$\n",
    "    K_3 = f(t_n + \\frac{h}{2}, u_n + \\frac{h}{2}K_2) \n",
    "$$\n",
    "$$\n",
    "    K_4 = f(t_{n+1}, u_n + hK_3)  \n",
    "$$\n"
   ]
  },
  {
   "cell_type": "markdown",
   "metadata": {},
   "source": [
    "\n",
    "# System of ODE\n",
    "Consider the following system of first order ODE\n",
    "$$\n",
    "\\begin{cases}\n",
    "u^{'}_1(t) = f_1(t, u_1(t),\\dots,u_m(t)), \\\\\n",
    "\\vdots \\\\\n",
    "u^{'}_m(t) = f_m(t, u_1(t),\\dots,u_m(t)) \\\\\n",
    "u_1(t_0) = u_{0,1}, \\dots, u_m(t_0) = u_{0,m}\n",
    "\\end{cases}\n",
    "$$\n",
    "where $t \\in (t_0, T]$. \n"
   ]
  },
  {
   "cell_type": "markdown",
   "metadata": {},
   "source": [
    "## Theta method\n",
    "For it's solution we can apply to each individual equation one of the methods previusly introduced for a scalar problem. For instance the n-th step of the forward Eulero method would read\n",
    "\n",
    "$$\n",
    "\\begin{cases}\n",
    "u_{n+1, 1} = u_{n,1} + h f_1(t_n, u_{n,1}, \\dots, u_{n,m}), \\\\\n",
    "\\vdots \\\\\n",
    "u_{n+1, m} = u_{n,m} + h f_m(t_n, u_{n,1}, \\dots, u_{n,m})\n",
    "\\end{cases}\n",
    "$$\n",
    "By writing the system in vector form $\\textbf{y}^{'}(t) = \\textbf{F}(t, \\textbf{y}(t))$ we can extend and generalize the previous developed method to the vector case:\n",
    "$$\n",
    "    \\textbf{u}_{n+1} = \\textbf{u}_{n} + h(\\theta \\textbf{F}(t_{n+1}, \\textbf{u}_{n+1}) + (1-\\theta)\\textbf{F}(t_n, \\textbf{u}_n))\n",
    "$$\n",
    "with $0 \\leq \\theta \\leq 1$. This generalization is also called theta method. For $\\theta = 0$ is the vector form of the forward Euler method. If $\\theta = 1$ is the backward Euler method and for $\\theta = 1/2$ is the Crank-Nicolson method."
   ]
  },
  {
   "cell_type": "markdown",
   "metadata": {},
   "source": [
    "## Higher order systems\n",
    "\n",
    "Now consider the case on an ODE of order m\n",
    "\n",
    "$$\n",
    "    u^{(m)}(t) = f(t, u, u^{'}, \\dots, u^{(m-1)})\n",
    "$$\n",
    "\n",
    "whose solution is a family of functions defined up to m arbitrary constant. The latter can be fixed by prescribing m initial conditions\n",
    "$$\n",
    "    u(t_0) = u_0, u^{'}(t_0) = u_1, \\dots, u^{(m-1)}(t_0) = u_{m-1}\n",
    "$$\n",
    "\n",
    "Setting\n",
    "\n",
    "$$\n",
    "    w_1(t) = u(t), w_2(t) = u^{'}(t), \\dots, w_m(t) = u^{(m-1)}(t)\n",
    "$$\n",
    "the above m-order ode can be trasnformed into a first order system of m differential equations\n",
    "\n",
    "$$\n",
    "\\begin{cases}\n",
    "    w_1^{'} = w_2, \\\\\n",
    "    w_2^{'} = w_3, \\\\\n",
    "    \\vdots \\\\\n",
    "    w_{m-1}^{'} = w_m, \\\\\n",
    "    w_{m}^{'} = f(t, w_1, \\dots, w_m)\n",
    "\\end{cases}\n",
    "$$\n",
    "\n",
    "with initial conditions\n",
    "\n",
    "$$\n",
    " w_1(t_0) = u_0, w_2(t_0) = u_1, \\dots, w_m(t_0) = u_{m-1}\n",
    "$$\n",
    "\n",
    "Thus we can always approximate the solution of a differential equation of order m by resorting to the equivalent system of m first order eqautions, and then applying to this system a convenient discretization method.\n"
   ]
  },
  {
   "cell_type": "markdown",
   "metadata": {},
   "source": [
    "## Armonic motion\n",
    "This is the model under pendulum with small angle, Hook's law, etc.\n",
    "Force is proportional to the displacement:\n",
    "\n",
    "$$\n",
    "\\begin{cases}\n",
    "  m \\frac{d^2x}{dt^2} = -kx \\\\\n",
    "  x(0) = x_0 \\\\\n",
    "  x^{'}(0) = x^{'}(0) \\\\\n",
    "\\end{cases}\n",
    "$$\n",
    "Analytical solution\n",
    "\n",
    "$$\n",
    "  x(t) = Acos(\\omega t) + Bsin(\\omega t),  \\;\\;\\;\\; \\omega^2 = \\frac{k}{m} \\\\\n",
    "  x_0 = A \\\\\n",
    "  x^{'} = \\omega B\n",
    "$$"
   ]
  },
  {
   "cell_type": "code",
   "execution_count": 3,
   "metadata": {},
   "outputs": [],
   "source": [
    "A = 1\n",
    "B = 1\n",
    "k = 1\n",
    "m = 1\n",
    "omega = np.sqrt(k/m)"
   ]
  },
  {
   "cell_type": "code",
   "execution_count": 10,
   "metadata": {},
   "outputs": [],
   "source": [
    "def u(t):\n",
    "    return A*np.cos(omega*t) + B*np.sin(omega*t)"
   ]
  },
  {
   "cell_type": "code",
   "execution_count": 15,
   "metadata": {},
   "outputs": [
    {
     "data": {
      "text/plain": [
       "[<matplotlib.lines.Line2D at 0x10fd2fd00>]"
      ]
     },
     "execution_count": 15,
     "metadata": {},
     "output_type": "execute_result"
    },
    {
     "data": {
      "image/png": "[encoded data removed]",
      "text/plain": [
       "<Figure size 640x480 with 1 Axes>"
      ]
     },
     "metadata": {},
     "output_type": "display_data"
    }
   ],
   "source": [
    "t = np.linspace(0,2*np.pi, 100)\n",
    "plt.plot(t, u(t))"
   ]
  }
 ],
 "metadata": {
  "kernelspec": {
   "display_name": "bayesian-env",
   "language": "python",
   "name": "python3"
  },
  "language_info": {
   "codemirror_mode": {
    "name": "ipython",
    "version": 3
   },
   "file_extension": ".py",
   "mimetype": "text/x-python",
   "name": "python",
   "nbconvert_exporter": "python",
   "pygments_lexer": "ipython3",
   "version": "3.10.13"
  }
 },
 "nbformat": 4,
 "nbformat_minor": 2
}
