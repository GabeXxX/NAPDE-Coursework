{
 "cells": [
  {
   "cell_type": "markdown",
   "metadata": {},
   "source": [
    "# Runge Kutta method \n",
    "\n",
    "We consider method to generates numerical solution to the following Cauchy problem: find $u:I\\rightarrow R$ s.t\n",
    "$$\n",
    "\\begin{cases}\n",
    "u^{'}(t) = f(t, u(t)) \\\\\n",
    "u(t_0) = u_0\n",
    "\\end{cases}\n",
    "$$\n",
    "where $I$ is an interval in $R$ and $f:I\\times R \\rightarrow R$\n"
   ]
  },
  {
   "cell_type": "markdown",
   "metadata": {},
   "source": [
    "## Euler method\n",
    "### Forward Euler method\n",
    "This method is obtained considering the above differential eqation and replacing the exact derivative by means of the incremental ratio $u^{'}(x) \\approx \\frac{u(x+h)-u(x)}{h}$\n",
    "$$\n",
    "    u_{n+1} = u_n + hf_n  \\;\\;\\;\\;\\;\\;\\;\\;\\; n=0,\\dots,N_h -1\n",
    "$$\n",
    "\n",
    "### Backward Euler method\n",
    "In similar way using the incremental ratio $u^{'}(x) \\approx \\frac{u(x)-u(x+h)}{h}$ we obtain\n",
    "$$\n",
    "    u_{n+1} = u_{n} + hf_{n+1}    \\;\\;\\;\\;\\;\\;\\;\\;\\;  n=0,\\dots,N_h -1\n",
    "$$\n",
    "\n",
    "## Crank-Nicolson method\n",
    "Adding togheter the generic steps of the forward and backward Euler method we find\n",
    "$$\n",
    "    u_{n+1} = u_{n} + \\frac{h}{2} \\left(f_n + f_{n+1} \\right)    \\;\\;\\;\\;\\;\\;\\;\\;\\; n=0,\\dots,N_h -1\n",
    "$$\n",
    "\n",
    "## Runge-Kutta methods\n",
    "A further generalization of the Euler method is the Runge_Kutta method, that involves several evaluations of the function $f(t,y)$ on every interval $[t_n, t_{n+1}]$. In the most general form can be written as\n",
    "$$\n",
    "    u_{n+1} = u_{n} + h \\sum_{i=1}^s b_iK_i\n",
    "$$\n",
    "where\n",
    "$$\n",
    "    K_i = f(t_n + c_i h, u_n + h \\sum_{j=1}^s b_i K_i) \\;\\;\\;\\;\\;\\;\\;\\;\\; i=1,2,\\dots,s\n",
    "$$\n",
    "where $A=(a_ij) \\in R^{s \\times s}$, $\\textbf{b} = (b_1,\\dots, b_s)^T \\in R^{s}$ and $\\textbf{c} = (c_1,\\dots, c_s)^T \\in R^{s}$.\n",
    "One of the most celebrated Runge-Kutta method reads\n",
    "\n",
    "$$\n",
    "    u_{n+1} = u_{n} + \\frac{h}{6} (K_1+K_2+K_3+K_4)\n",
    "$$\n",
    "where\n",
    "$$\n",
    "    K_1 = f_n\n",
    "$$\n",
    "$$\n",
    "    K_2 = f(t_n + \\frac{h}{2}, u_n + \\frac{h}{2}K_1)\n",
    "$$\n",
    "$$\n",
    "    K_3 = f(t_n + \\frac{h}{2}, u_n + \\frac{h}{2}K_2) \n",
    "$$\n",
    "$$\n",
    "    K_4 = f(t_{n+1}, u_n + hK_3)  \n",
    "$$\n"
   ]
  },
  {
   "cell_type": "markdown",
   "metadata": {},
   "source": [
    "\n",
    "## System of ODE\n",
    "TODO\n",
    "\n",
    "## The three-body problem\n",
    "TODO"
   ]
  }
 ],
 "metadata": {
  "kernelspec": {
   "display_name": "bayesian-env",
   "language": "python",
   "name": "python3"
  },
  "language_info": {
   "name": "python",
   "version": "3.10.13"
  }
 },
 "nbformat": 4,
 "nbformat_minor": 2
}
