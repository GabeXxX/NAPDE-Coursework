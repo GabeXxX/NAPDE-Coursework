{
 "cells": [
  {
   "cell_type": "code",
   "execution_count": 1,
   "id": "574193ec-10cb-4f65-945c-4046030d7469",
   "metadata": {},
   "outputs": [
    {
     "name": "stderr",
     "output_type": "stream",
     "text": [
      "2024-09-09 17:18:40.545958: I tensorflow/core/platform/cpu_feature_guard.cc:182] This TensorFlow binary is optimized to use available CPU instructions in performance-critical operations.\n",
      "To enable the following instructions: AVX2 FMA, in other operations, rebuild TensorFlow with the appropriate compiler flags.\n"
     ]
    }
   ],
   "source": [
    "import numpy as np\n",
    "import matplotlib.pyplot as plt\n",
    "from matplotlib.gridspec import GridSpec\n",
    "from mpl_toolkits import mplot3d\n",
    "import scipy.sparse\n",
    "import scipy.linalg\n",
    "import tensorflow as tf\n",
    "import tensorflow_probability as tfp\n",
    "from sklearn.model_selection import train_test_split\n",
    "import time"
   ]
  },
  {
   "cell_type": "code",
   "execution_count": 26,
   "id": "e6f3b9bd-94f3-47b6-8238-a14b54c0a163",
   "metadata": {},
   "outputs": [],
   "source": [
    "# Domain\n",
    "a = -2\n",
    "b = 2\n",
    "c = -2\n",
    "d = 2\n",
    "\n",
    "# Number of refinement\n",
    "n = 3;\n",
    "\n",
    "# Number of discretization node on x and y axis n_x and n_y, dimension of PoI u D\n",
    "n_x = n_y = 2**n+1\n",
    "\n",
    "N = D = n_x*n_y\n",
    "\n",
    "# Dimension of obs data y\n",
    "O = 25\n",
    "\n",
    "x = np.linspace(a, b, n_x)\n",
    "y = np.linspace(c, d, n_y)\n",
    "xv, yv = np.meshgrid(x, y)"
   ]
  },
  {
   "cell_type": "code",
   "execution_count": 27,
   "id": "129b1393-f7b4-446b-96e0-92460b78a007",
   "metadata": {},
   "outputs": [],
   "source": [
    "grid = np.c_[yv.ravel(), xv.ravel()]"
   ]
  },
  {
   "cell_type": "code",
   "execution_count": 28,
   "id": "34b8d903-6526-4bff-bf35-7920eae954e3",
   "metadata": {},
   "outputs": [],
   "source": [
    "def covariance(x_i,x_j):\n",
    "    sigma = 0.5;\n",
    "    rho = 0.5;\n",
    "    return sigma**2*np.exp(-np.linalg.norm(x_i - x_j)**2 / (2*rho**2))"
   ]
  },
  {
   "cell_type": "code",
   "execution_count": 29,
   "id": "1ba3466d-7533-427d-9bc4-b62c408dc57a",
   "metadata": {},
   "outputs": [],
   "source": [
    "mean = 2*np.ones(D)\n",
    "Cov = np.zeros((D, D))"
   ]
  },
  {
   "cell_type": "code",
   "execution_count": 30,
   "id": "31da5aa0-373f-40fd-8b7a-7d13652ea933",
   "metadata": {},
   "outputs": [],
   "source": [
    "for i in np.arange(N):\n",
    "    for j in np.arange(N):\n",
    "        Cov[i,j] = covariance(grid[i], grid[j])"
   ]
  },
  {
   "cell_type": "code",
   "execution_count": 31,
   "id": "014225dd-255b-4451-acc2-46a6d1845a32",
   "metadata": {},
   "outputs": [
    {
     "data": {
      "text/plain": [
       "(0.0007642005738692278+0j)"
      ]
     },
     "execution_count": 31,
     "metadata": {},
     "output_type": "execute_result"
    }
   ],
   "source": [
    "np.linalg.eigvals(Cov).min()"
   ]
  }
 ],
 "metadata": {
  "kernelspec": {
   "display_name": "bayesian-env",
   "language": "python",
   "name": "bayesian-env"
  },
  "language_info": {
   "codemirror_mode": {
    "name": "ipython",
    "version": 3
   },
   "file_extension": ".py",
   "mimetype": "text/x-python",
   "name": "python",
   "nbconvert_exporter": "python",
   "pygments_lexer": "ipython3",
   "version": "3.10.14"
  }
 },
 "nbformat": 4,
 "nbformat_minor": 5
}
