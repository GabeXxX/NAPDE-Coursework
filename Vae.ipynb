{
  "nbformat": 4,
  "nbformat_minor": 0,
  "metadata": {
    "colab": {
      "provenance": [],
      "authorship_tag": "ABX9TyPJInSRGui2AMp+COdTcG8T",
      "include_colab_link": true
    },
    "kernelspec": {
      "name": "python3",
      "display_name": "Python 3"
    },
    "language_info": {
      "name": "python"
    }
  },
  "cells": [
    {
      "cell_type": "markdown",
      "metadata": {
        "id": "view-in-github",
        "colab_type": "text"
      },
      "source": [
        "<a href=\"https://colab.research.google.com/github/GabeXxX/NAPDE-Coursework/blob/main/Vae.ipynb\" target=\"_parent\"><img src=\"https://colab.research.google.com/assets/colab-badge.svg\" alt=\"Open In Colab\"/></a>"
      ]
    },
    {
      "cell_type": "code",
      "source": [
        "from IPython import display\n",
        "\n",
        "import glob\n",
        "import imageio\n",
        "import matplotlib.pyplot as plt\n",
        "import numpy as np\n",
        "import PIL\n",
        "import tensorflow as tf\n",
        "import tensorflow_probability as tfp\n",
        "import time"
      ],
      "metadata": {
        "id": "YI7P_YJRuuIE"
      },
      "execution_count": 1,
      "outputs": []
    },
    {
      "cell_type": "markdown",
      "source": [
        "# TODO\n",
        "- [x] preprocessing the data and shuffling it (How? search, not copy)\n",
        "- [ ] Define the encoder network\n",
        "- [ ] Define the decoder network  \n",
        "- [ ] implement the reparameterization trick\n",
        "- [ ] define the loss function and the optimizer (what is an optimzer in keras? search, not copy)\n",
        "- [ ] train the network\n",
        "- [ ] generate image\n",
        "- [ ] finish and integrate blog post on theory    "
      ],
      "metadata": {
        "id": "QVF1gGWaRMqZ"
      }
    },
    {
      "cell_type": "markdown",
      "source": [
        "# Load and pre-process data\n",
        "Each MNIST image is originally a vector of 28x28 integers, each of which is between 0-255 and represents the intensity of a pixel. We Model each pixel with a Bernoulli distribution in our model, first normalizing(helping the gradient calculations to stay consistent, and not get so large so that they slow down or prevent a network to converge) and then binarizing each images.\n",
        "\n",
        "Then we shuffle the data, ensuring that each batch contains a different mix of data, which helps the model to learn from different patterns in each epoch."
      ],
      "metadata": {
        "id": "wwe3R3T-vPko"
      }
    },
    {
      "cell_type": "code",
      "source": [
        "# (x_train, y_train), (x_test, y_test) = tf.keras.datasets.mnist.load_data()\n",
        "# Discard label as we don't use it\n",
        "(x_train, _), (x_test, _) = tf.keras.datasets.mnist.load_data()"
      ],
      "metadata": {
        "id": "0T_ABkRYu9eP",
        "colab": {
          "base_uri": "https://localhost:8080/"
        },
        "outputId": "3dd97b21-e241-4227-f0f7-35281d0f3bf5"
      },
      "execution_count": 2,
      "outputs": [
        {
          "output_type": "stream",
          "name": "stdout",
          "text": [
            "Downloading data from https://storage.googleapis.com/tensorflow/tf-keras-datasets/mnist.npz\n",
            "11490434/11490434 [==============================] - 1s 0us/step\n"
          ]
        }
      ]
    },
    {
      "cell_type": "code",
      "source": [
        "type(x_train)"
      ],
      "metadata": {
        "colab": {
          "base_uri": "https://localhost:8080/"
        },
        "id": "GC_x4vCUyYpu",
        "outputId": "8f2e942c-a51d-412c-eea6-2118d3f0af89"
      },
      "execution_count": 3,
      "outputs": [
        {
          "output_type": "execute_result",
          "data": {
            "text/plain": [
              "numpy.ndarray"
            ]
          },
          "metadata": {},
          "execution_count": 3
        }
      ]
    },
    {
      "cell_type": "code",
      "source": [
        "x_train.shape"
      ],
      "metadata": {
        "colab": {
          "base_uri": "https://localhost:8080/"
        },
        "id": "aHFb79Scgery",
        "outputId": "62226d6e-8dbf-461d-c9e5-f3e9e5551eac"
      },
      "execution_count": 4,
      "outputs": [
        {
          "output_type": "execute_result",
          "data": {
            "text/plain": [
              "(60000, 28, 28)"
            ]
          },
          "metadata": {},
          "execution_count": 4
        }
      ]
    },
    {
      "cell_type": "code",
      "source": [
        "# Normalize\n",
        "x_train = x_train / 255\n",
        "x_test = x_test / 255"
      ],
      "metadata": {
        "id": "mZW0TqA3Y_Vv"
      },
      "execution_count": 5,
      "outputs": []
    },
    {
      "cell_type": "code",
      "source": [
        "# Binarize\n",
        "def binarize_images(images):\n",
        "  return np.where(images > 0.5, 1.0, 0.0)"
      ],
      "metadata": {
        "id": "NAcLij_AaVan"
      },
      "execution_count": 6,
      "outputs": []
    },
    {
      "cell_type": "code",
      "source": [
        "x_train = binarize_images(x_train)\n",
        "x_test = binarize_images(x_test)"
      ],
      "metadata": {
        "id": "6RF7QudhaviV"
      },
      "execution_count": 7,
      "outputs": []
    },
    {
      "cell_type": "code",
      "source": [
        "# Visualizing\n",
        "def visualize_binary_vectors(dataset, width, height, num_vectors=8):\n",
        "    fig, axes = plt.subplots(2, 4, figsize=(10, 5))\n",
        "\n",
        "    for i in range(num_vectors):\n",
        "        binary_vector = dataset[i, :]\n",
        "        binary_matrix = np.array(binary_vector).reshape((height, width))\n",
        "\n",
        "        # Plot each binary image as a subplot\n",
        "        n = np.ceil(num_vectors/2).astype(int)\n",
        "        ax = axes[i // n, i % n]\n",
        "        ax.imshow(binary_matrix)\n",
        "        ax.set_title(f'Image {i + 1}')\n",
        "\n",
        "    plt.tight_layout()\n",
        "    plt.show()"
      ],
      "metadata": {
        "id": "lla2_ZKPa9JU"
      },
      "execution_count": 8,
      "outputs": []
    },
    {
      "cell_type": "code",
      "source": [
        "visualize_binary_vectors(x_train[:8, : ,:], 28, 28)"
      ],
      "metadata": {
        "colab": {
          "base_uri": "https://localhost:8080/",
          "height": 513
        },
        "id": "DvUB6PMab1s2",
        "outputId": "3cd1fcd8-1a5b-4a20-ac07-56401bb6cc9e"
      },
      "execution_count": 9,
      "outputs": [
        {
          "output_type": "display_data",
          "data": {
            "text/plain": [
              "<Figure size 1000x500 with 8 Axes>"
            ],
            "image/png": "[encoded data removed]"
          },
          "metadata": {}
        }
      ]
    },
    {
      "cell_type": "code",
      "source": [
        "# define some useful variable\n",
        "train_size = x_train.shape[0]\n",
        "test_size = x_test.shape[0]\n",
        "batch_size = 32"
      ],
      "metadata": {
        "id": "fGn1d7r4hOir"
      },
      "execution_count": 10,
      "outputs": []
    },
    {
      "cell_type": "code",
      "source": [
        "# Shuffle the data\n",
        "train_data = tf.data.Dataset.from_tensor_slices(x_train).shuffle(train_size)\n",
        "test_data = tf.data.Dataset.from_tensor_slices(x_test).shuffle(test_size)\n",
        "\n",
        "# Batch the data\n",
        "train_data = train_data.batch(batch_size)\n",
        "test_data = test_data.batch(batch_size)"
      ],
      "metadata": {
        "id": "lDOOI54YcSKk"
      },
      "execution_count": 12,
      "outputs": []
    },
    {
      "cell_type": "markdown",
      "source": [
        "# Define the network\n",
        "We need to define the encoder, the decoder, the reparametrization trick, the loss function and the optimizer.\n",
        "\n",
        "Which input shape the network accept? We define as input shape the shape of a single image, i.e. a 28x28 image.\n",
        "\n",
        "What's the rational behind the deep/filter return from a single Convolutional layer?\n",
        "Convolutional layers with multiple filters allow the network to learn a diverse set of features from the input data. Each filter specializes in detecting different patterns or features within the input image. A deeper network with more filters can capture more complex and abstract features, enabling better representation learning."
      ],
      "metadata": {
        "id": "_OezYryCRP2D"
      }
    },
    {
      "cell_type": "code",
      "source": [
        "class ConvolutionalVAE(tf.keras.Model):\n",
        "  def __init__(self, latent_dim):\n",
        "    super().__init__();\n",
        "    self.latent_dim = latent_dim\n",
        "    self.encoder = tf.keras.Sequential(\n",
        "        [\n",
        "            tf.keras.Input(shape = (28,28,1)),\n",
        "            tf.keras.layers.Conv2D(filters = 16, kernel_size=(3,3), strides = (1,1), padding = \"valid\", activation = \"relu\"),\n",
        "            tf.keras.layers.Conv2D(filters = 32, kernel_size=(3,3), strides = (1,1), padding = \"valid\", activation = \"relu\"),\n",
        "            tf.keras.layers.Conv2D(filters = 64, kernel_size=(3,3), strides = (1,1), padding = \"valid\", activation = \"relu\"),\n",
        "            tf.keras.layers.Flatten(),\n",
        "            tf.keras.layers.Dense(units = latent_dim + latent_dim) # No activation function in this layer\n",
        "        ]\n",
        "    )\n",
        "\n",
        "\n"
      ],
      "metadata": {
        "id": "kWN2B3pSiQCC"
      },
      "execution_count": null,
      "outputs": []
    },
    {
      "cell_type": "markdown",
      "source": [
        "# Sources\n",
        "1. https://www.tensorflow.org/tutorials/generative/cvae\n",
        "2. https://keras.io/examples/generative/vae/"
      ],
      "metadata": {
        "id": "8cdAztZ25COb"
      }
    }
  ]
}