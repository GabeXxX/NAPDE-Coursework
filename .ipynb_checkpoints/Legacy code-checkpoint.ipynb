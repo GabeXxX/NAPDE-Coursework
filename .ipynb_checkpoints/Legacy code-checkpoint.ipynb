{
 "cells": [
  {
   "cell_type": "code",
   "execution_count": 5,
   "id": "9a18d897-0fe9-4bc3-a743-36043a2dad1a",
   "metadata": {},
   "outputs": [],
   "source": [
    "import numpy as np\n",
    "import scipy.sparse\n",
    "import scipy.linalg"
   ]
  },
  {
   "cell_type": "code",
   "execution_count": 6,
   "id": "702033f5-c896-4a74-af26-fd5d1a513b80",
   "metadata": {},
   "outputs": [],
   "source": [
    "# Parameters\n",
    "n_x = n_y = 3\n",
    "n = n_x*n_y\n",
    "a = 0\n",
    "b = 1\n",
    "c = 0\n",
    "d = 1"
   ]
  },
  {
   "cell_type": "code",
   "execution_count": null,
   "id": "0a8f1377-d93a-49e3-b4ab-75373e30851f",
   "metadata": {},
   "outputs": [],
   "source": [
    "# Compute A\n",
    "def compute_A1(n_x, n_y):\n",
    "\n",
    "    # Toeplitz matrix for backward differences\n",
    "    backward_diff_first_col = [1, -1] + [0] * (n_x - 2)\n",
    "    backward_diff_first_row = [1] + [0] * (n_x - 1)\n",
    "    A_backward = scipy.linalg.toeplitz(backward_diff_first_col, backward_diff_first_row) \n",
    "\n",
    "    I_x = np.eye(n_x, dtype=\"int\")\n",
    "    I_y = np.eye(n_y, dtype=\"int\")\n",
    "\n",
    "    D_x_backward = np.kron(A_backward, I_y)\n",
    "    D_y_backward= np.kron(I_x, A_backward)\n",
    "\n",
    "    C =  1* np.eye(n, dtype=\"int\")\n",
    "\n",
    "    A = np.matmul(D_x_backward.T, np.matmul(C, D_x_backward)) + np.matmul(D_y_backward.T, np.matmul(C, D_y_backward))\n",
    "    \n",
    "    return A"
   ]
  }
 ],
 "metadata": {
  "kernelspec": {
   "display_name": "bayesian-env",
   "language": "python",
   "name": "bayesian-env"
  },
  "language_info": {
   "codemirror_mode": {
    "name": "ipython",
    "version": 3
   },
   "file_extension": ".py",
   "mimetype": "text/x-python",
   "name": "python",
   "nbconvert_exporter": "python",
   "pygments_lexer": "ipython3",
   "version": "3.10.13"
  }
 },
 "nbformat": 4,
 "nbformat_minor": 5
}
